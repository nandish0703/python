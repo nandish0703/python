{
 "cells": [
  {
   "cell_type": "markdown",
   "metadata": {},
   "source": [
    "# Python Tuple – Introduction\n",
    "A Python tuple is a collection type data structure which is immutable by design and holds a sequence of heterogeneous elements. It functions almost like a Python list but with the following distinctions.\n",
    "\n",
    "Tuples store a fixed set of elements and don’t allow changes whereas the list has the provision to update its content.\n",
    "The list uses square brackets for opening and closing whereas, and a tuple has got parentheses for the enclosure."
   ]
  },
  {
   "cell_type": "code",
   "execution_count": 1,
   "metadata": {},
   "outputs": [
    {
     "name": "stdout",
     "output_type": "stream",
     "text": [
      "A blank tuple: ()\n"
     ]
    }
   ],
   "source": [
    "# create an empty tuple\n",
    "py_tuple = ()\n",
    "print(\"A blank tuple:\", py_tuple)\n",
    "\n"
   ]
  },
  {
   "cell_type": "code",
   "execution_count": 2,
   "metadata": {},
   "outputs": [
    {
     "name": "stdout",
     "output_type": "stream",
     "text": [
      "A tuple set without parenthesis: (33, 55, 77) type: <class 'tuple'>\n"
     ]
    }
   ],
   "source": [
    "# create a tuple without using round brackets\n",
    "py_tuple = 33, 55, 77\n",
    "print(\"A tuple set without parenthesis:\", py_tuple, \"type:\", type(py_tuple))\n",
    "\n"
   ]
  },
  {
   "cell_type": "code",
   "execution_count": 3,
   "metadata": {},
   "outputs": [
    {
     "name": "stdout",
     "output_type": "stream",
     "text": [
      "A tuple of numbers: (33, 55, 77)\n"
     ]
    }
   ],
   "source": [
    "# create a tuple of numbers\n",
    "py_tuple = (33, 55, 77)\n",
    "print(\"A tuple of numbers:\", py_tuple)\n",
    "\n"
   ]
  },
  {
   "cell_type": "code",
   "execution_count": 4,
   "metadata": {},
   "outputs": [
    {
     "name": "stdout",
     "output_type": "stream",
     "text": [
      "A tuple of mixed numbers: (33, 3.3, (3+3j))\n"
     ]
    }
   ],
   "source": [
    "# create a tuple of mixed numbers\n",
    "# such as integer, float, imaginary\n",
    "py_tuple = (33, 3.3, 3+3j)\n",
    "print(\"A tuple of mixed numbers:\", py_tuple)\n",
    "\n"
   ]
  },
  {
   "cell_type": "code",
   "execution_count": 5,
   "metadata": {},
   "outputs": [
    {
     "name": "stdout",
     "output_type": "stream",
     "text": [
      "A tuple of mixed data types: (33, '33', [3, 3])\n"
     ]
    }
   ],
   "source": [
    "# create a tuple of mixed data types\n",
    "# such as numbers, strings, lists\n",
    "py_tuple = (33, \"33\", [3, 3])\n",
    "print(\"A tuple of mixed data types:\", py_tuple)\n",
    "\n"
   ]
  },
  {
   "cell_type": "code",
   "execution_count": 6,
   "metadata": {},
   "outputs": [
    {
     "name": "stdout",
     "output_type": "stream",
     "text": [
      "A tuple of tuples: (('x', 'y', 'z'), ('X', 'Y', 'Z'))\n"
     ]
    }
   ],
   "source": [
    "# create a tuple of tuples\n",
    "# i.e. a nested tuple\n",
    "py_tuple = (('x', 'y', 'z'), ('X', 'Y', 'Z'))\n",
    "print(\"A tuple of tuples:\", py_tuple)"
   ]
  },
  {
   "cell_type": "code",
   "execution_count": 7,
   "metadata": {},
   "outputs": [
    {
     "data": {
      "text/plain": [
       "tuple"
      ]
     },
     "execution_count": 7,
     "metadata": {},
     "output_type": "execute_result"
    }
   ],
   "source": [
    "# creating a tuple from a list\n",
    "py_tuple = tuple([33, 55 , 77])\n",
    "type(py_tuple)\n",
    "\n"
   ]
  },
  {
   "cell_type": "code",
   "execution_count": 8,
   "metadata": {},
   "outputs": [
    {
     "data": {
      "text/plain": [
       "(33, 55, 77)"
      ]
     },
     "execution_count": 8,
     "metadata": {},
     "output_type": "execute_result"
    }
   ],
   "source": [
    "py_tuple\n"
   ]
  },
  {
   "cell_type": "code",
   "execution_count": 9,
   "metadata": {},
   "outputs": [
    {
     "name": "stdout",
     "output_type": "stream",
     "text": [
      "Tuple before modificaton: (22, 33, 55, 66, [88, 99])\n"
     ]
    }
   ],
   "source": [
    "py_tuple = (22, 33, 55, 66, [88, 99])\n",
    "print(\"Tuple before modificaton:\", py_tuple)\n",
    "\n"
   ]
  },
  {
   "cell_type": "code",
   "execution_count": 10,
   "metadata": {},
   "outputs": [
    {
     "name": "stdout",
     "output_type": "stream",
     "text": [
      "OP(py_tuple[0]) Error: 'tuple' object does not support item assignment\n"
     ]
    }
   ],
   "source": [
    "# Let's try to modify py_tuple\n",
    "# It'll return a TypeError\n",
    "try:\n",
    "    py_tuple[0] = 11\n",
    "except Exception as ex:\n",
    "    print(\"OP(py_tuple[0]) Error:\", ex)\n",
    "\n"
   ]
  },
  {
   "cell_type": "code",
   "execution_count": 11,
   "metadata": {},
   "outputs": [
    {
     "name": "stdout",
     "output_type": "stream",
     "text": [
      "Tuple after modificaton: (22, 33, 55, 66, [77, 88])\n"
     ]
    }
   ],
   "source": [
    "# We can change the values of mutable\n",
    "# elements inside the py_tuple i.e. list\n",
    "py_tuple[4][0] = 77\n",
    "py_tuple[4][1] = 88\n",
    "print(\"Tuple after modificaton:\", py_tuple)"
   ]
  },
  {
   "cell_type": "code",
   "execution_count": 12,
   "metadata": {},
   "outputs": [
    {
     "name": "stdout",
     "output_type": "stream",
     "text": [
      "OP(del py_tuple[0]) Error: 'tuple' object doesn't support item deletion\n"
     ]
    }
   ],
   "source": [
    "py_tuple = (1,2,3,4,5,6,7)\n",
    "\n",
    "# you can't delete a particular item from a tuple\n",
    "try:\n",
    "    del py_tuple[0]\n",
    "\n",
    "except Exception as ex:\n",
    "    print(\"OP(del py_tuple[0]) Error:\", ex)\n",
    "\n"
   ]
  },
  {
   "cell_type": "code",
   "execution_count": 13,
   "metadata": {},
   "outputs": [
    {
     "name": "stdout",
     "output_type": "stream",
     "text": [
      "print(py_tuple) => Error: name 'py_tuple' is not defined\n"
     ]
    }
   ],
   "source": [
    "# but you can delete a whole tuple\n",
    "del py_tuple\n",
    "try:\n",
    "    print(py_tuple)\n",
    "except Exception as ex:\n",
    "    print(\"print(py_tuple) => Error:\", ex)"
   ]
  },
  {
   "cell_type": "markdown",
   "metadata": {},
   "source": [
    "# Usage Of Python Tuples\n",
    "Used For Grouping Data :\n",
    "The tuple provides a quick way of grouping and arranging data. It can help you combine any number of elements into a single unit.\n",
    "\n",
    "They can help us representing information in the form of records such as the employee record. A tuple allows us to group related information and use it as a single entity."
   ]
  },
  {
   "cell_type": "code",
   "execution_count": 14,
   "metadata": {},
   "outputs": [],
   "source": [
    "emp_records = ('Deepak', 'Data Scientist', 2010, 'Harish', 'Programmar', 2015, 'Himashu', 'Accountant', 2018)\n",
    "(emp_name, emp_dept, emp_join_date) = emp_records[0:3]\n"
   ]
  },
  {
   "cell_type": "code",
   "execution_count": 16,
   "metadata": {},
   "outputs": [
    {
     "data": {
      "text/plain": [
       "'Data Scientist'"
      ]
     },
     "execution_count": 16,
     "metadata": {},
     "output_type": "execute_result"
    }
   ],
   "source": [
    "emp_dept"
   ]
  },
  {
   "cell_type": "code",
   "execution_count": 18,
   "metadata": {},
   "outputs": [
    {
     "name": "stdout",
     "output_type": "stream",
     "text": [
      "(4, 9)\n"
     ]
    }
   ],
   "source": [
    "#Returning Tuple from function\n",
    "def square(n1, n2):\n",
    "    return (n1*n1, n2*n2)\n",
    "\n",
    "print((square(2, 3)))"
   ]
  },
  {
   "cell_type": "code",
   "execution_count": null,
   "metadata": {},
   "outputs": [],
   "source": []
  }
 ],
 "metadata": {
  "kernelspec": {
   "display_name": "Python 3",
   "language": "python",
   "name": "python3"
  },
  "language_info": {
   "codemirror_mode": {
    "name": "ipython",
    "version": 3
   },
   "file_extension": ".py",
   "mimetype": "text/x-python",
   "name": "python",
   "nbconvert_exporter": "python",
   "pygments_lexer": "ipython3",
   "version": "3.7.0"
  }
 },
 "nbformat": 4,
 "nbformat_minor": 2
}
